{
 "cells": [
  {
   "cell_type": "markdown",
   "id": "46ce8011-f4b5-4ed7-a052-485d4b8cd43d",
   "metadata": {},
   "source": [
    "# Titanic Survival Prediction using Logistic Regression  \n",
    "## Project 4 – Classification | Coding Samurai Internship\n",
    "\n",
    "This project builds a logistic regression model to predict whether a passenger survived the Titanic disaster.  \n",
    "It involves:\n",
    "\n",
    "- Data cleaning & feature engineering\n",
    "- Encoding & scaling\n",
    "- Training a logistic regression model\n",
    "- Evaluating performance using accuracy, confusion matrix, and classification report\n",
    "\n",
    "This classification problem helps build foundational machine learning skills using real-world data."
   ]
  },
  {
   "cell_type": "code",
   "execution_count": 1,
   "id": "27877338-3ffb-4ccd-8a64-d80055015fca",
   "metadata": {},
   "outputs": [],
   "source": [
    "# Importing all required libraries\n",
    "import pandas as pd\n",
    "import numpy as np\n",
    "import seaborn as sns\n",
    "import matplotlib.pyplot as plt\n",
    "\n",
    "from sklearn.model_selection import train_test_split\n",
    "from sklearn.preprocessing import LabelEncoder, StandardScaler\n",
    "from sklearn.linear_model import LogisticRegression\n",
    "from sklearn.metrics import accuracy_score, confusion_matrix, classification_report\n",
    "\n",
    "%matplotlib inline\n",
    "sns.set(style='whitegrid')"
   ]
  },
  {
   "cell_type": "markdown",
   "id": "db9df277-9f90-4eb5-97f9-bd039f889f6e",
   "metadata": {},
   "source": [
    "### Import Libraries\n",
    "\n",
    "We import Python libraries for:\n",
    "\n",
    "- Data analysis: `pandas`, `numpy`\n",
    "- Visualization: `seaborn`, `matplotlib`\n",
    "- Machine Learning: `scikit-learn` (for modeling and evaluation)"
   ]
  },
  {
   "cell_type": "code",
   "execution_count": 2,
   "id": "59364fdf-ffcd-4204-b7df-5d23cc939615",
   "metadata": {},
   "outputs": [
    {
     "data": {
      "text/html": [
       "<div>\n",
       "<style scoped>\n",
       "    .dataframe tbody tr th:only-of-type {\n",
       "        vertical-align: middle;\n",
       "    }\n",
       "\n",
       "    .dataframe tbody tr th {\n",
       "        vertical-align: top;\n",
       "    }\n",
       "\n",
       "    .dataframe thead th {\n",
       "        text-align: right;\n",
       "    }\n",
       "</style>\n",
       "<table border=\"1\" class=\"dataframe\">\n",
       "  <thead>\n",
       "    <tr style=\"text-align: right;\">\n",
       "      <th></th>\n",
       "      <th>PassengerId</th>\n",
       "      <th>Survived</th>\n",
       "      <th>Pclass</th>\n",
       "      <th>Name</th>\n",
       "      <th>Sex</th>\n",
       "      <th>Age</th>\n",
       "      <th>SibSp</th>\n",
       "      <th>Parch</th>\n",
       "      <th>Ticket</th>\n",
       "      <th>Fare</th>\n",
       "      <th>Cabin</th>\n",
       "      <th>Embarked</th>\n",
       "    </tr>\n",
       "  </thead>\n",
       "  <tbody>\n",
       "    <tr>\n",
       "      <th>0</th>\n",
       "      <td>1</td>\n",
       "      <td>0</td>\n",
       "      <td>3</td>\n",
       "      <td>Braund, Mr. Owen Harris</td>\n",
       "      <td>male</td>\n",
       "      <td>22.0</td>\n",
       "      <td>1</td>\n",
       "      <td>0</td>\n",
       "      <td>A/5 21171</td>\n",
       "      <td>7.2500</td>\n",
       "      <td>NaN</td>\n",
       "      <td>S</td>\n",
       "    </tr>\n",
       "    <tr>\n",
       "      <th>1</th>\n",
       "      <td>2</td>\n",
       "      <td>1</td>\n",
       "      <td>1</td>\n",
       "      <td>Cumings, Mrs. John Bradley (Florence Briggs Th...</td>\n",
       "      <td>female</td>\n",
       "      <td>38.0</td>\n",
       "      <td>1</td>\n",
       "      <td>0</td>\n",
       "      <td>PC 17599</td>\n",
       "      <td>71.2833</td>\n",
       "      <td>C85</td>\n",
       "      <td>C</td>\n",
       "    </tr>\n",
       "    <tr>\n",
       "      <th>2</th>\n",
       "      <td>3</td>\n",
       "      <td>1</td>\n",
       "      <td>3</td>\n",
       "      <td>Heikkinen, Miss. Laina</td>\n",
       "      <td>female</td>\n",
       "      <td>26.0</td>\n",
       "      <td>0</td>\n",
       "      <td>0</td>\n",
       "      <td>STON/O2. 3101282</td>\n",
       "      <td>7.9250</td>\n",
       "      <td>NaN</td>\n",
       "      <td>S</td>\n",
       "    </tr>\n",
       "    <tr>\n",
       "      <th>3</th>\n",
       "      <td>4</td>\n",
       "      <td>1</td>\n",
       "      <td>1</td>\n",
       "      <td>Futrelle, Mrs. Jacques Heath (Lily May Peel)</td>\n",
       "      <td>female</td>\n",
       "      <td>35.0</td>\n",
       "      <td>1</td>\n",
       "      <td>0</td>\n",
       "      <td>113803</td>\n",
       "      <td>53.1000</td>\n",
       "      <td>C123</td>\n",
       "      <td>S</td>\n",
       "    </tr>\n",
       "    <tr>\n",
       "      <th>4</th>\n",
       "      <td>5</td>\n",
       "      <td>0</td>\n",
       "      <td>3</td>\n",
       "      <td>Allen, Mr. William Henry</td>\n",
       "      <td>male</td>\n",
       "      <td>35.0</td>\n",
       "      <td>0</td>\n",
       "      <td>0</td>\n",
       "      <td>373450</td>\n",
       "      <td>8.0500</td>\n",
       "      <td>NaN</td>\n",
       "      <td>S</td>\n",
       "    </tr>\n",
       "  </tbody>\n",
       "</table>\n",
       "</div>"
      ],
      "text/plain": [
       "   PassengerId  Survived  Pclass  \\\n",
       "0            1         0       3   \n",
       "1            2         1       1   \n",
       "2            3         1       3   \n",
       "3            4         1       1   \n",
       "4            5         0       3   \n",
       "\n",
       "                                                Name     Sex   Age  SibSp  \\\n",
       "0                            Braund, Mr. Owen Harris    male  22.0      1   \n",
       "1  Cumings, Mrs. John Bradley (Florence Briggs Th...  female  38.0      1   \n",
       "2                             Heikkinen, Miss. Laina  female  26.0      0   \n",
       "3       Futrelle, Mrs. Jacques Heath (Lily May Peel)  female  35.0      1   \n",
       "4                           Allen, Mr. William Henry    male  35.0      0   \n",
       "\n",
       "   Parch            Ticket     Fare Cabin Embarked  \n",
       "0      0         A/5 21171   7.2500   NaN        S  \n",
       "1      0          PC 17599  71.2833   C85        C  \n",
       "2      0  STON/O2. 3101282   7.9250   NaN        S  \n",
       "3      0            113803  53.1000  C123        S  \n",
       "4      0            373450   8.0500   NaN        S  "
      ]
     },
     "execution_count": 2,
     "metadata": {},
     "output_type": "execute_result"
    }
   ],
   "source": [
    "# Load the Titanic dataset\n",
    "df = pd.read_csv('titanic.csv')\n",
    "df.head()"
   ]
  },
  {
   "cell_type": "markdown",
   "id": "659f2468-1aff-4737-ae2b-cb51cd9d6a59",
   "metadata": {},
   "source": [
    "### Load Dataset\n",
    "\n",
    "We load the Titanic dataset using `pandas.read_csv()` and display the first few rows to preview the data."
   ]
  },
  {
   "cell_type": "code",
   "execution_count": 3,
   "id": "0c3a9d39-3125-4c73-9517-300084016600",
   "metadata": {},
   "outputs": [
    {
     "name": "stdout",
     "output_type": "stream",
     "text": [
      "<class 'pandas.core.frame.DataFrame'>\n",
      "RangeIndex: 891 entries, 0 to 890\n",
      "Data columns (total 12 columns):\n",
      " #   Column       Non-Null Count  Dtype  \n",
      "---  ------       --------------  -----  \n",
      " 0   PassengerId  891 non-null    int64  \n",
      " 1   Survived     891 non-null    int64  \n",
      " 2   Pclass       891 non-null    int64  \n",
      " 3   Name         891 non-null    object \n",
      " 4   Sex          891 non-null    object \n",
      " 5   Age          714 non-null    float64\n",
      " 6   SibSp        891 non-null    int64  \n",
      " 7   Parch        891 non-null    int64  \n",
      " 8   Ticket       891 non-null    object \n",
      " 9   Fare         891 non-null    float64\n",
      " 10  Cabin        204 non-null    object \n",
      " 11  Embarked     889 non-null    object \n",
      "dtypes: float64(2), int64(5), object(5)\n",
      "memory usage: 83.7+ KB\n"
     ]
    },
    {
     "data": {
      "text/plain": [
       "PassengerId      0\n",
       "Survived         0\n",
       "Pclass           0\n",
       "Name             0\n",
       "Sex              0\n",
       "Age            177\n",
       "SibSp            0\n",
       "Parch            0\n",
       "Ticket           0\n",
       "Fare             0\n",
       "Cabin          687\n",
       "Embarked         2\n",
       "dtype: int64"
      ]
     },
     "execution_count": 3,
     "metadata": {},
     "output_type": "execute_result"
    }
   ],
   "source": [
    "# Basic info and summary statistics\n",
    "df.info()\n",
    "df.describe()\n",
    "df.isnull().sum()"
   ]
  },
  {
   "cell_type": "markdown",
   "id": "2c070978-4f55-41c4-9b40-7c55143e77dc",
   "metadata": {},
   "source": [
    "### Explore Dataset\n",
    "\n",
    "We check:\n",
    "- Data types of each column\n",
    "- Summary statistics (mean, std, etc.)\n",
    "- Missing values per column\n",
    "This helps us plan cleaning and preprocessing."
   ]
  },
  {
   "cell_type": "code",
   "execution_count": 4,
   "id": "a9da024d-b128-432b-8646-8d3cb697e52f",
   "metadata": {},
   "outputs": [],
   "source": [
    "# Drop 'Cabin', drop rows with null 'Embarked', fill 'Age' with median\n",
    "df.drop(columns=['Cabin'], inplace=True)\n",
    "df.dropna(subset=['Embarked'], inplace=True)\n",
    "df['Age'].fillna(df['Age'].median(), inplace=True)"
   ]
  },
  {
   "cell_type": "markdown",
   "id": "c06d72f0-ab9c-47c5-a66f-3ff563aad6a7",
   "metadata": {},
   "source": [
    "### Data Cleaning\n",
    "\n",
    "- Dropped the `Cabin` column due to too many missing values\n",
    "- Dropped 2 rows with missing `Embarked`\n",
    "- Filled missing `Age` values with the median"
   ]
  },
  {
   "cell_type": "code",
   "execution_count": 5,
   "id": "b1dc5e58-0885-4485-aeaa-0e39c40f1a0f",
   "metadata": {},
   "outputs": [],
   "source": [
    "# Add FamilySize and IsAlone\n",
    "df['FamilySize'] = df['SibSp'] + df['Parch'] + 1\n",
    "df['IsAlone'] = np.where(df['FamilySize'] == 1, 1, 0)\n",
    "\n",
    "# Extract Title from Name\n",
    "df['Title'] = df['Name'].str.extract(' ([A-Za-z]+)\\.', expand=False)\n",
    "df['Title'] = df['Title'].replace(['Lady', 'Countess','Capt','Col','Don',\n",
    "                                   'Dr','Major','Rev','Sir','Jonkheer','Dona'], 'Other')\n",
    "df['Title'] = df['Title'].replace({'Mlle': 'Miss', 'Ms': 'Miss', 'Mme': 'Mrs'})"
   ]
  },
  {
   "cell_type": "markdown",
   "id": "78898b9b-4263-4828-b0e2-9e5c227eeaca",
   "metadata": {},
   "source": [
    "### Feature Engineering\n",
    "\n",
    "- `FamilySize`: total relatives onboard\n",
    "- `IsAlone`: 1 if alone, 0 otherwise\n",
    "- `Title`: extracted from names (Mr, Miss, etc.)\n",
    "These features help the model learn social/structural patterns."
   ]
  },
  {
   "cell_type": "code",
   "execution_count": 6,
   "id": "f7c46f6e-3b83-4aef-a516-561d26985e2f",
   "metadata": {},
   "outputs": [],
   "source": [
    "# Select model columns\n",
    "features = ['Pclass','Sex','Age','Fare','Embarked','FamilySize','IsAlone','Title']\n",
    "df_model = df[features + ['Survived']].copy()\n",
    "\n",
    "# Label encode categorical columns\n",
    "le = LabelEncoder()\n",
    "for col in ['Sex', 'Embarked', 'Title']:\n",
    "    df_model[col] = le.fit_transform(df_model[col])"
   ]
  },
  {
   "cell_type": "markdown",
   "id": "fff78dd2-7a7e-441a-9221-41f9e3e45e4b",
   "metadata": {},
   "source": [
    "### Label Encoding\n",
    "\n",
    "We convert categorical variables (`Sex`, `Embarked`, `Title`) into numeric form using `LabelEncoder` so they can be used in logistic regression."
   ]
  },
  {
   "cell_type": "code",
   "execution_count": 7,
   "id": "833fb84d-a54b-4b86-a0e4-b3cc7c2f6bcf",
   "metadata": {},
   "outputs": [],
   "source": [
    "# Split data into train and test\n",
    "X = df_model.drop('Survived', axis=1)\n",
    "y = df_model['Survived']\n",
    "\n",
    "X_train, X_test, y_train, y_test = train_test_split(X, y, test_size=0.2, random_state=42)"
   ]
  },
  {
   "cell_type": "markdown",
   "id": "1e34ce9c-0193-47cc-8f68-b2d0dc5dd8aa",
   "metadata": {},
   "source": [
    "### Train-Test Split\n",
    "\n",
    "We split the data:\n",
    "- 80% for training\n",
    "- 20% for testing\n",
    "\n",
    "This helps us evaluate model performance on unseen data."
   ]
  },
  {
   "cell_type": "code",
   "execution_count": 8,
   "id": "bb72b3f2-214a-480e-a1fd-b9aa9c5d833e",
   "metadata": {},
   "outputs": [],
   "source": [
    "# Standardize the features\n",
    "scaler = StandardScaler()\n",
    "X_train_scaled = scaler.fit_transform(X_train)\n",
    "X_test_scaled = scaler.transform(X_test)"
   ]
  },
  {
   "cell_type": "markdown",
   "id": "15eb2fc6-39f6-42a6-ad6b-05d811715df0",
   "metadata": {},
   "source": [
    "### Feature Scaling\n",
    "We apply `StandardScaler` to normalize feature values — important for models like logistic regression to converge and interpret coefficients."
   ]
  },
  {
   "cell_type": "code",
   "execution_count": 10,
   "id": "36a80e93-b12f-4459-bc61-ad52ee24f1a3",
   "metadata": {},
   "outputs": [],
   "source": [
    "# Train logistic regression\n",
    "model = LogisticRegression(max_iter=2000)\n",
    "model.fit(X_train_scaled, y_train)\n",
    "\n",
    "# Predict\n",
    "y_pred = model.predict(X_test_scaled)"
   ]
  },
  {
   "cell_type": "markdown",
   "id": "dc638dcd-660e-4f11-b6bb-993f3ae41155",
   "metadata": {},
   "source": [
    "### Train Logistic Regression\n",
    "\n",
    "We train the logistic regression model using scaled data. `max_iter=2000` ensures convergence.  \n",
    "Then we make predictions on the test set."
   ]
  },
  {
   "cell_type": "code",
   "execution_count": 14,
   "id": "1df62741-febc-41d9-b1e1-1c02feaea2fe",
   "metadata": {},
   "outputs": [
    {
     "name": "stdout",
     "output_type": "stream",
     "text": [
      "Overall Model Accuracy: 0.8034\n"
     ]
    }
   ],
   "source": [
    "# Accuracy Score\n",
    "accuracy = accuracy_score(y_test, y_pred)\n",
    "print(f\"Overall Model Accuracy: {accuracy:.4f}\")"
   ]
  },
  {
   "cell_type": "markdown",
   "id": "ff13caf9-9d7b-4408-986b-15f229b26619",
   "metadata": {},
   "source": [
    "## Model Accuracy Summary\n",
    "\n",
    "The logistic regression model achieved an accuracy of **80.34%** on the test dataset.\n",
    "\n",
    "This means the model correctly predicted the survival of passengers in 8 out of every 10 cases based on features such as age, sex, class, and whether they were traveling alone or with family.\n",
    "\n",
    "While it’s not perfect, this is a strong baseline result — especially without hyperparameter tuning or advanced ensemble methods."
   ]
  },
  {
   "cell_type": "code",
   "execution_count": 11,
   "id": "ce8ada34-3be2-4f84-abb2-45c05d48e0f7",
   "metadata": {},
   "outputs": [
    {
     "name": "stdout",
     "output_type": "stream",
     "text": [
      "Accuracy: 0.8034\n"
     ]
    },
    {
     "data": {
      "image/png": "[encoded data removed]",
      "text/plain": [
       "<Figure size 640x480 with 2 Axes>"
      ]
     },
     "metadata": {},
     "output_type": "display_data"
    },
    {
     "name": "stdout",
     "output_type": "stream",
     "text": [
      "              precision    recall  f1-score   support\n",
      "\n",
      "           0       0.85      0.83      0.84       109\n",
      "           1       0.74      0.77      0.75        69\n",
      "\n",
      "    accuracy                           0.80       178\n",
      "   macro avg       0.79      0.80      0.79       178\n",
      "weighted avg       0.81      0.80      0.80       178\n",
      "\n"
     ]
    }
   ],
   "source": [
    "# Evaluate predictions\n",
    "acc = accuracy_score(y_test, y_pred)\n",
    "print(f\"Accuracy: {acc:.4f}\")\n",
    "\n",
    "# Confusion Matrix\n",
    "cm = confusion_matrix(y_test, y_pred)\n",
    "sns.heatmap(cm, annot=True, cmap='Blues', fmt='d')\n",
    "plt.title(\"Confusion Matrix\")\n",
    "plt.xlabel(\"Predicted\")\n",
    "plt.ylabel(\"Actual\")\n",
    "plt.show()\n",
    "\n",
    "# Classification Report\n",
    "print(classification_report(y_test, y_pred))"
   ]
  },
  {
   "cell_type": "markdown",
   "id": "2b44426b-0009-4511-bc54-c337762c009f",
   "metadata": {},
   "source": [
    "### Model Evaluation\n",
    "\n",
    "- **Accuracy Score**: overall model performance\n",
    "- **Confusion Matrix**: shows true/false positives and negatives\n",
    "- **Classification Report**: includes precision, recall, f1-score"
   ]
  },
  {
   "cell_type": "code",
   "execution_count": 12,
   "id": "066f8f28-e18b-4c62-8fc9-8ea2bf04ff3a",
   "metadata": {},
   "outputs": [
    {
     "data": {
      "image/png": "[encoded data removed]",
      "text/plain": [
       "<Figure size 640x480 with 1 Axes>"
      ]
     },
     "metadata": {},
     "output_type": "display_data"
    }
   ],
   "source": [
    "# Coefficients analysis\n",
    "coef = pd.DataFrame({\n",
    "    'Feature': X.columns,\n",
    "    'Coefficient': model.coef_[0]\n",
    "}).sort_values(by='Coefficient')\n",
    "\n",
    "sns.barplot(x='Coefficient', y='Feature', data=coef, palette='coolwarm')\n",
    "plt.title(\"Feature Importance (Coefficients)\")\n",
    "plt.show()"
   ]
  },
  {
   "cell_type": "markdown",
   "id": "45ddf91e-fdec-40cc-976c-9d316b80f970",
   "metadata": {},
   "source": [
    "### Feature Importance\n",
    "\n",
    "Logistic regression coefficients show:\n",
    "- Positive values → increase survival probability\n",
    "- Negative values → decrease it\n",
    "\n",
    "This helps interpret the model's decision logic."
   ]
  },
  {
   "cell_type": "markdown",
   "id": "286a4361-c58a-484d-b59c-4cb783dd939b",
   "metadata": {},
   "source": [
    "## Final Insights from the Model\n",
    "\n",
    "After cleaning the dataset and engineering features like `FamilySize`, `IsAlone`, and `Title`, we trained a logistic regression model and achieved **80.34% accuracy**.\n",
    "\n",
    "### Key observations:\n",
    "- **Sex** had the strongest influence: female passengers were far more likely to survive.\n",
    "- **Pclass** mattered: 1st class passengers had higher survival rates.\n",
    "- **Traveling alone** reduced survival probability.\n",
    "- **Title** added extra value by grouping social status and age in a compact form.\n",
    "\n",
    "This project demonstrated the end-to-end process of building a supervised classification model from data prep and feature engineering to modeling and evaluation using clean and explainable techniques."
   ]
  }
 ],
 "metadata": {
  "kernelspec": {
   "display_name": "Python 3 (ipykernel)",
   "language": "python",
   "name": "python3"
  },
  "language_info": {
   "codemirror_mode": {
    "name": "ipython",
    "version": 3
   },
   "file_extension": ".py",
   "mimetype": "text/x-python",
   "name": "python",
   "nbconvert_exporter": "python",
   "pygments_lexer": "ipython3",
   "version": "3.11.7"
  }
 },
 "nbformat": 4,
 "nbformat_minor": 5
}
